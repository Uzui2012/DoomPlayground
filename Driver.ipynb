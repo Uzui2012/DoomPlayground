{
 "cells": [
  {
   "cell_type": "code",
   "execution_count": null,
   "metadata": {},
   "outputs": [],
   "source": [
    "import torch\n",
    "import matplotlib\n",
    "import matplotlib.pyplot as plt\n",
    "from time import sleep, time\n",
    "from vizdoom import gymnasium_wrapper\n",
    "import gymnasium\n",
    "import numpy as np\n",
    "import random\n",
    "import math\n",
    "\n",
    "device = torch.device(\"cuda:0\" if torch.cuda.is_available() else \"cpu\")\n",
    "print(f\"Running on device: {device}\")\n",
    "env = gymnasium.make(\"VizdoomBasic-v0\", render_mode=\"human\")"
   ]
  },
  {
   "cell_type": "code",
   "execution_count": null,
   "metadata": {},
   "outputs": [],
   "source": [
    "import rlqlearning.rlqlUtil as util\n",
    "import rlqlearning.models as models"
   ]
  },
  {
   "cell_type": "code",
   "execution_count": null,
   "metadata": {},
   "outputs": [],
   "source": [
    "BATCH_SIZE = 128 # Transitions sampled from replay buffer\n",
    "GAMMA = 0.99 # Discount factor\n",
    "EPSILON_START = 0.9 # Start, end, and rate of decay of the epsilon value \n",
    "EPSILON_END = 0.05\n",
    "EPSILON_DECAY = 1000\n",
    "TAU = 0.005 # Target network update rate\n",
    "LEARNING_RATE = 1e-4 # optimiser learning rate\n",
    "num_actions = env.action_space.n\n",
    "state, info = env.reset()\n",
    "screen_w = len(state['screen'])\n",
    "screen_h = len(state['screen'][0])\n",
    "channels =  3\n",
    "#print(screen_w)\n",
    "#print(screen_h)\n",
    "screen_state = torch.tensor(np.array(state['screen']), dtype=torch.float32, device=device).unsqueeze(0)"
   ]
  },
  {
   "cell_type": "code",
   "execution_count": null,
   "metadata": {},
   "outputs": [],
   "source": [
    "policy = models.DQN(screen_w, screen_h, channels, num_actions).to(device)\n",
    "target = models.DQN(screen_w, screen_h, channels, num_actions).to(device)\n",
    "target.load_state_dict(policy.state_dict())\n",
    "\n",
    "optimiser = torch.optim.AdamW(policy.parameters(), lr=LEARNING_RATE, amsgrad=True)\n",
    "memory = util.ReplayMemory(10000)"
   ]
  },
  {
   "cell_type": "code",
   "execution_count": null,
   "metadata": {},
   "outputs": [],
   "source": [
    "steps_done = 0\n",
    "episode_durations = []\n",
    "\n",
    "def select_action(observation):\n",
    "    global steps_done\n",
    "    sample = random.random()\n",
    "    eps_threshold = EPSILON_END + (EPSILON_START - EPSILON_END) * \\\n",
    "        math.exp(-1. * steps_done / EPSILON_DECAY)\n",
    "    steps_done += 1\n",
    "    if sample > eps_threshold:\n",
    "        with torch.no_grad():\n",
    "            return policy(observation).max(1).indices.view(1, 1)\n",
    "    else:\n",
    "        return torch.tensor([[env.action_space.sample()]], device=device, dtype=torch.long)"
   ]
  },
  {
   "cell_type": "code",
   "execution_count": null,
   "metadata": {},
   "outputs": [],
   "source": [
    "if torch.cuda.is_available():\n",
    "    num_episodes = 1000\n",
    "else:\n",
    "    num_episodes = 50\n",
    "\n",
    "for i in range(num_episodes):\n",
    "    done = False\n",
    "    state, info = env.reset()\n",
    "    state = torch.tensor(np.array(state['screen']), dtype=torch.float32, device=device).unsqueeze(0)\n",
    "    state = torch.transpose(state, 1, 3)\n",
    "    print(state.shape)\n",
    "    score = 0\n",
    "    while not done:\n",
    "        action = select_action(state)\n",
    "        print(action.item())\n",
    "        observation, reward, done, trunc, info = env.step(action.item())\n",
    "        score += reward\n",
    "        if done:\n",
    "            next_state = None\n",
    "            print(f\"Episode Score: {score}\")\n",
    "        else:\n",
    "            next_state = torch.tensor(observation['screen'], dtype=torch.float32, device=device).unsqueeze(0)\n",
    "            next_state = torch.transpose(next_state, 1, 3)\n",
    "\n",
    "        # Store the transition in memory\n",
    "        memory.push(state, action, next_state, reward)\n",
    "\n",
    "        # Move to the next state\n",
    "        state = next_state\n",
    "\n",
    "        #env.render()\n",
    "        #sleep(1/30)"
   ]
  }
 ],
 "metadata": {
  "kernelspec": {
   "display_name": "Python 3",
   "language": "python",
   "name": "python3"
  },
  "language_info": {
   "codemirror_mode": {
    "name": "ipython",
    "version": 3
   },
   "file_extension": ".py",
   "mimetype": "text/x-python",
   "name": "python",
   "nbconvert_exporter": "python",
   "pygments_lexer": "ipython3",
   "version": "3.12.2"
  }
 },
 "nbformat": 4,
 "nbformat_minor": 2
}
