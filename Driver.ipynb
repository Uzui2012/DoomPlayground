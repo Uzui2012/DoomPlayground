{
 "cells": [
  {
   "cell_type": "code",
   "execution_count": null,
   "metadata": {},
   "outputs": [],
   "source": [
    "import torch\n",
    "from time import sleep, time\n",
    "from vizdoom import gymnasium_wrapper\n",
    "import gymnasium\n",
    "\n",
    "use_cuda = torch.cuda.is_available()\n",
    "print(torch.cuda.is_available())\n",
    "device = torch.device(\"cuda:0\" if use_cuda else \"cpu\")\n",
    "print(device)\n",
    "env = gymnasium.make(\"VizdoomHealthGatheringSupreme-v0\", render_mode=\"human\")"
   ]
  },
  {
   "cell_type": "code",
   "execution_count": null,
   "metadata": {},
   "outputs": [],
   "source": [
    "for i in range(5):\n",
    "    done = False\n",
    "    observation = env.reset()\n",
    "    score = 0\n",
    "\n",
    "    while not done:  \n",
    "        action = env.action_space.sample()\n",
    "        observation, reward, done, trunc, info = env.step(action)\n",
    "        score += reward\n",
    "        print(score)\n",
    "\n",
    "        env.render()\n",
    "        #sleep(1/30)\n",
    "\n",
    "        if done:\n",
    "            print(f\"Episode Score: {score}\")"
   ]
  }
 ],
 "metadata": {
  "kernelspec": {
   "display_name": "Python 3",
   "language": "python",
   "name": "python3"
  },
  "language_info": {
   "name": "python",
   "version": "3.12.2"
  }
 },
 "nbformat": 4,
 "nbformat_minor": 2
}
