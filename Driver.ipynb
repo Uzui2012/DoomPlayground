{
 "cells": [
  {
   "cell_type": "code",
   "execution_count": null,
   "metadata": {},
   "outputs": [
    {
     "name": "stdout",
     "output_type": "stream",
     "text": [
      "Running on device: cuda:0\n"
     ]
    },
    {
     "name": "stderr",
     "output_type": "stream",
     "text": [
      "c:\\Users\\killi\\AppData\\Local\\Programs\\Python\\Python312\\Lib\\site-packages\\vizdoom\\gymnasium_wrapper\\base_gymnasium_env.py:84: UserWarning: Detected screen format CRCGCB. Only RGB24 and GRAY8 are supported in the Gymnasium wrapper. Forcing RGB24.\n",
      "  warnings.warn(\n"
     ]
    }
   ],
   "source": [
    "import torch\n",
    "import matplotlib\n",
    "import matplotlib.pyplot as plt\n",
    "from time import sleep, time\n",
    "from vizdoom import gymnasium_wrapper\n",
    "import gymnasium\n",
    "import random\n",
    "import math\n",
    "\n",
    "device = torch.device(\"cuda:0\" if torch.cuda.is_available() else \"cpu\")\n",
    "print(f\"Running on device: {device}\")\n",
    "env = gymnasium.make(\"VizdoomBasic-v0\", render_mode=\"human\")"
   ]
  },
  {
   "cell_type": "code",
   "execution_count": null,
   "metadata": {},
   "outputs": [],
   "source": [
    "import rlqlearning.rlqlUtil as util\n",
    "import rlqlearning.DQN as DQN"
   ]
  },
  {
   "cell_type": "code",
   "execution_count": null,
   "metadata": {},
   "outputs": [],
   "source": [
    "BATCH_SIZE = 128 # Transitions sampled from replay buffer\n",
    "GAMMA = 0.99 # Discount factor\n",
    "EPSILON_START = 0.9 # Start, end, and rate of decay of the epsilon value \n",
    "EPSILON_END = 0.05\n",
    "EPSILON_DECAY = 1000\n",
    "TAU = 0.005 # Target network update rate\n",
    "LEARNING_RATE = 1e-4 # optimiser learning rate\n",
    "\n",
    "num_actions = env.action_space.n\n",
    "state = env.reset()\n",
    "num_obs = len(state)"
   ]
  },
  {
   "cell_type": "code",
   "execution_count": null,
   "metadata": {},
   "outputs": [],
   "source": [
    "policy = DQN(num_obs, num_actions).to(device)\n",
    "target = DQN(num_obs, num_actions).to(device)\n",
    "target.load_state_dict(policy.state_dict())\n",
    "\n",
    "optimiser = torch.optim.AdamW(policy.parameters(), lr=LEARNING_RATE, amsgrad=True)\n",
    "memory = util.ReplayMemory(10000)"
   ]
  },
  {
   "cell_type": "code",
   "execution_count": null,
   "metadata": {},
   "outputs": [],
   "source": [
    "steps_done = 0\n",
    "\n",
    "def select_action(state):\n",
    "    global steps_done\n",
    "    sample = random.random()\n",
    "    eps_threshold = EPSILON_END + (EPSILON_START - EPSILON_END) * \\\n",
    "        math.exp(-1. * steps_done / EPSILON_DECAY)\n",
    "    steps_done += 1\n",
    "    if sample > eps_threshold:\n",
    "        with torch.no_grad():\n",
    "            return policy(state).max(1).indices.view(1, 1)\n",
    "    else:\n",
    "        return torch.tensor([[env.action_space.sample()]], device=device, dtype=torch.long)"
   ]
  },
  {
   "cell_type": "code",
   "execution_count": null,
   "metadata": {},
   "outputs": [],
   "source": [
    "for i in range(5):\n",
    "    done = False\n",
    "    observation = env.reset()\n",
    "    score = 0\n",
    "\n",
    "    while not done:  \n",
    "        action = env.action_space.sample()\n",
    "        #print(action)\n",
    "        #break\n",
    "        observation, reward, done, trunc, info = env.step(action)\n",
    "        score += reward\n",
    "        #print(score)\n",
    "\n",
    "        env.render()\n",
    "        #sleep(1/30)\n",
    "\n",
    "        if done:\n",
    "            print(f\"Episode Score: {score}\")"
   ]
  }
 ],
 "metadata": {
  "kernelspec": {
   "display_name": "Python 3",
   "language": "python",
   "name": "python3"
  },
  "language_info": {
   "codemirror_mode": {
    "name": "ipython",
    "version": 3
   },
   "file_extension": ".py",
   "mimetype": "text/x-python",
   "name": "python",
   "nbconvert_exporter": "python",
   "pygments_lexer": "ipython3",
   "version": "3.12.2"
  }
 },
 "nbformat": 4,
 "nbformat_minor": 2
}
