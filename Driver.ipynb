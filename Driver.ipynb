{
 "cells": [
  {
   "cell_type": "code",
   "execution_count": null,
   "metadata": {},
   "outputs": [],
   "source": [
    "import torch\n",
    "from time import sleep, time\n",
    "from vizdoom import gymnasium_wrapper\n",
    "import gymnasium\n",
    "\n",
    "device = torch.device(\"cuda:0\" if torch.cuda.is_available() else \"cpu\")\n",
    "print(f\"Running on device: {device}\")\n",
    "env = gymnasium.make(\"VizdoomBasic-v0\", render_mode=\"human\")"
   ]
  },
  {
   "cell_type": "code",
   "execution_count": null,
   "metadata": {},
   "outputs": [],
   "source": [
    "import rlqlearning.rlqlUtil\n",
    "import rlqlearning.DQN"
   ]
  },
  {
   "cell_type": "code",
   "execution_count": null,
   "metadata": {},
   "outputs": [],
   "source": [
    "for i in range(5):\n",
    "    done = False\n",
    "    observation = env.reset()\n",
    "    score = 0\n",
    "\n",
    "    while not done:  \n",
    "        action = env.action_space.sample()\n",
    "        #print(action)\n",
    "        #break\n",
    "        observation, reward, done, trunc, info = env.step(action)\n",
    "        score += reward\n",
    "        #print(score)\n",
    "\n",
    "        env.render()\n",
    "        #sleep(1/30)\n",
    "\n",
    "        if done:\n",
    "            print(f\"Episode Score: {score}\")"
   ]
  }
 ],
 "metadata": {
  "kernelspec": {
   "display_name": "Python 3",
   "language": "python",
   "name": "python3"
  },
  "language_info": {
   "codemirror_mode": {
    "name": "ipython",
    "version": 3
   },
   "file_extension": ".py",
   "mimetype": "text/x-python",
   "name": "python",
   "nbconvert_exporter": "python",
   "pygments_lexer": "ipython3",
   "version": "3.12.2"
  }
 },
 "nbformat": 4,
 "nbformat_minor": 2
}
